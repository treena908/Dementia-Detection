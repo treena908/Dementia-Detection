{
 "cells": [
  {
   "cell_type": "code",
   "execution_count": 7,
   "metadata": {
    "collapsed": true
   },
   "outputs": [
    {
     "name": "stdout",
     "output_type": "stream",
     "text": [
      "      id    label                                               text\n0  138-1  Control  [\\n, okay, \\n, there, s, a, cookie, jar, on, t...\n1  631-0  Control  [\\n, the, kids, are, in, the, cookies, \\n, the...\n2  182-3  Control  [\\n, well, Johnny, s, fallin, g, off, the, sto...\n3  121-0  Control  [\\n, alright, \\n, the, boy, is, taking, a, coo...\n4  142-3  Control  [\\n, mhm, \\n, well, the, water, s, running, ov...\n1292\n"
     ]
    }
   ],
   "source": [
    "import pandas as pd \n",
    "import numpy as np \n",
    "\n",
    "data = pd.read_pickle('data/pitt_full_interview.pickle')\n",
    "print(data.head())\n",
    "print(len(data))"
   ]
  },
  {
   "cell_type": "code",
   "execution_count": 3,
   "metadata": {},
   "outputs": [
    {
     "name": "stdout",
     "output_type": "stream",
     "text": [
      "   age  education     id  race  sex\n0   57         14  001-0     1    1\n1   58         14  001-1     1    1\n2   59         14  001-2     1    1\n3   60         14  001-3     1    1\n4   58         16  002-0     1    0\n"
     ]
    }
   ],
   "source": [
    "anagraphic_data = pd.read_pickle('data/anagraphic_dataframe.pickle')\n",
    "print(anagraphic_data.head())"
   ]
  },
  {
   "cell_type": "code",
   "execution_count": 9,
   "metadata": {},
   "outputs": [
    {
     "name": "stdout",
     "output_type": "stream",
     "text": [
      "         id     label                                               text  age  \\\n0     138-1   Control  [\\n, okay, \\n, there, s, a, cookie, jar, on, t...   68   \n1     631-0   Control  [\\n, the, kids, are, in, the, cookies, \\n, the...   74   \n2     121-0   Control  [\\n, alright, \\n, the, boy, is, taking, a, coo...   70   \n3     142-3   Control  [\\n, mhm, \\n, well, the, water, s, running, ov...   61   \n4     267-2   Control  [\\n, clears, throat, mother, is, um, drying, t...   54   \n5     105-1   Control  [\\n, okay, \\n, well, the, mother, is, drying, ...   58   \n6     105-0   Control  [\\n, alrightie, \\n, uh, the, action, I, see, i...   56   \n7     140-0   Control  [\\n, doesn, t, matter, where, you, start, then...   58   \n8     298-1   Control  [\\n, okay, \\n, the, boy, is, standing, up, try...   66   \n9     121-1   Control  [\\n, there, s, the, action, \\n, there, s, the,...   71   \n10    243-0   Control  [\\n, okay, the, picture, s, in, a, kitchen, uh...   66   \n11    142-0   Control  [\\n, uh, there, s, a, boy, reaching, clears, t...   58   \n12    121-3   Control  [\\n, alright, \\n, um, the, mother, is, standin...   73   \n13    086-1   Control  [\\n, all, of, the, action, you, see, going, on...   70   \n14    166-1   Control  [\\n, everything, that, I, see, going, on, \\n, ...   57   \n15    166-0   Control  [\\n, the, woman, is, wiping, the, dishes, \\n, ...   56   \n16    140-3   Control  [\\n, \\n, \\n, um, the, little, girl, s, laughin...   61   \n17    267-0   Control  [\\n, uh, the, boy, is, standing, on, on, a, st...   52   \n18    086-0   Control  [\\n, oh, I, was, xxx, \\n, oh, this, is, gon, n...   69   \n19    121-2   Control  [\\n, um, the, boy, reaching, uh, standing, on,...   72   \n20    107-1   Control  [\\n, \\n, the, lid, is, fallin, g, off, a, cook...   58   \n21    142-1   Control  [\\n, um, a, anything, that, I, want, exc, \\n, ...   59   \n22    243-1   Control  [\\n, I, see, a, boy, um, getting, in, the, in,...   67   \n23    302-0   Control  [\\n, little, girl, with, her, finger, to, her,...   57   \n24    138-3   Control  [\\n, okay, the, little, boy, is, on, a, stool,...   70   \n25    146-1   Control  [\\n, well, uh, for, one, thing, this, boy, s, ...   73   \n26    322-1   Control  [\\n, action, type, things, exc, \\n, there, is,...   56   \n27    042-1   Control  [\\n, okay, \\n, uh, the, little, boy, is, on, t...   56   \n28    245-2   Control  [\\n, \\n, tell, me, \\n, oh, \\n, oh, by, lookin,...   71   \n29    245-0   Control  [\\n, well, the, mother, is, uh, clears, throat...   69   \n...     ...       ...                                                ...  ...   \n1092  168-0  Dementia  [\\n, oh, my, \\n, oh, \\n, something, about, uh,...   67   \n1093  350-1  Dementia  [\\n, oh, this, exc, \\n, there, s, a, little, b...   81   \n1094  350-1  Dementia  [\\n, I, can, t, think, of, I, can, t, think, o...   81   \n1095  350-1  Dementia  [\\n, coughs, \\n, uhuh, \\n, I, didn, t, hear, f...   81   \n1096  350-1  Dementia  [\\n, \\n, tree, q, exc, \\n, apple, tree, exc, \\...   81   \n1097  030-0  Dementia  [\\n, it, s, a, picture, of, a, kitchen, \\n, th...   63   \n1098  030-0  Dementia  [\\n, uh, duck, \\n, cow, \\n, geese, \\n, uh, squ...   63   \n1099  030-0  Dementia  [\\n, um, \\n, and, \\n, \\n, she, was, frightened...   63   \n1100  030-0  Dementia  [\\n, I, have, a, pencil, in, my, hand, \\n, the...   63   \n1101  349-0  Dementia  [\\n, well, this, one, s, trying, to, touch, he...   83   \n1102  349-0  Dementia  [\\n, oh, you, don, t, want, it, in, pen, notat...   83   \n1103  134-1  Dementia  [\\n, a, little, boy, is, tryin, g, to, get, th...   78   \n1104  134-1  Dementia  [\\n, s, \\n, okay, \\n, bread, \\n, and, meat, \\n...   78   \n1105  134-1  Dementia  [\\n, \\n, I, ll, read, alittle, more, but, I, d...   78   \n1106  134-1  Dementia  [\\n, I, like, to, write, with, a, pencil, \\n, ...   78   \n1107  270-1  Dementia  [\\n, alright, \\n, a, boy, is, getting, a, cook...   64   \n1108  270-1  Dementia  [\\n, any, types, of, food, I, can, eat, exc, \\...   64   \n1109  270-1  Dementia  [\\n, a, man, named, George, Miller, \\n, and, h...   64   \n1110  091-1  Dementia  [\\n, hm, there, s, a, boy, gettin, g, in, the,...   89   \n1111  091-1  Dementia  [\\n, there, s, a, man, with, a, little, girl, ...   89   \n1112  091-1  Dementia  [\\n, \\n, \\n, make, a, sentence, outof, that, e...   89   \n1113  579-0  Dementia  [\\n, woman, dish, doin, g, dishes, \\n, boy, cl...   85   \n1114  029-1  Dementia  [\\n, alright, \\n, I, see, the, little, boy, st...   68   \n1115  029-1  Dementia  [\\n, okay, \\n, cake, \\n, candy, \\n, soup, \\n, ...   68   \n1116  029-1  Dementia  [\\n, uncle, Bill, I, remember, uncle, Bill, \\n...   68   \n1117  049-3  Dementia  [\\n, um, horses, \\n, um, \\n, cats, \\n, \\n, if,...   60   \n1118  049-3  Dementia  [\\n, no, \\n, uh, well, the, little, girl, went...   60   \n1119  049-3  Dementia  [\\n, oh, laughs, \\n, pencils, \\n, people, alwa...   60   \n1120  087-0  Dementia  [\\n, one, year, just, before, Thankgiving, Geo...   76   \n1121  007-0  Dementia  [\\n, we, write, with, a, pencil, \\n, a, tree, ...   72   \n\n      education  race  sex  \n0            21     1    0  \n1            15     1    1  \n2            16     1    0  \n3            12     1    0  \n4            15     1    0  \n5            20     1    0  \n6            20     1    0  \n7            12     1    0  \n8            12     1    1  \n9            16     1    0  \n10           15     1    1  \n11           12     1    0  \n12           16     1    0  \n13           18     1    0  \n14           20     1    1  \n15           20     1    1  \n16           12     1    0  \n17           15     1    0  \n18           18     1    0  \n19           16     1    0  \n20           12     2    1  \n21           12     1    0  \n22           15     1    1  \n23           12     1    0  \n24           21     1    0  \n25            8     2    1  \n26           16     1    1  \n27           12     1    0  \n28           12     1    1  \n29           12     1    1  \n...         ...   ...  ...  \n1092         11     1    0  \n1093         12     2    0  \n1094         12     2    0  \n1095         12     2    0  \n1096         12     2    0  \n1097         19     1    1  \n1098         19     1    1  \n1099         19     1    1  \n1100         19     1    1  \n1101          9     1    0  \n1102          9     1    0  \n1103          8     2    0  \n1104          8     2    0  \n1105          8     2    0  \n1106          8     2    0  \n1107         13     1    0  \n1108         13     1    0  \n1109         13     1    0  \n1110         12     1    0  \n1111         12     1    0  \n1112         12     1    0  \n1113          8     1    0  \n1114         14     1    1  \n1115         14     1    1  \n1116         14     1    1  \n1117         12     1    0  \n1118         12     1    0  \n1119         12     1    0  \n1120          9     1    0  \n1121         14     1    0  \n\n[1122 rows x 7 columns]\n"
     ]
    }
   ],
   "source": [
    "merged_dataframe = pd.merge(data, anagraphic_data, on='id')\n",
    "print(merged_dataframe)"
   ]
  },
  {
   "cell_type": "code",
   "execution_count": 3,
   "metadata": {
    "collapsed": false
   },
   "outputs": [
    {
     "name": "stdout",
     "output_type": "stream",
     "text": [
      "1292\n     label                                               text\n0  Control  [\\n, okay, \\n, there, s, a, cookie, jar, on, t...\n1  Control  [\\n, the, kids, are, in, the, cookies, \\n, the...\n2  Control  [\\n, well, Johnny, s, fallin, g, off, the, sto...\n3  Control  [\\n, alright, \\n, the, boy, is, taking, a, coo...\n4  Control  [\\n, mhm, \\n, well, the, water, s, running, ov...\n"
     ]
    }
   ],
   "source": [
    "print(len(data))\n",
    "print(data.head())"
   ]
  },
  {
   "cell_type": "code",
   "execution_count": 11,
   "metadata": {
    "collapsed": false
   },
   "outputs": [
    {
     "name": "stderr",
     "output_type": "stream",
     "text": [
      "\r0it [00:00, ?it/s]"
     ]
    },
    {
     "name": "stderr",
     "output_type": "stream",
     "text": [
      "\r3it [00:00, 27.18it/s]"
     ]
    },
    {
     "name": "stderr",
     "output_type": "stream",
     "text": [
      "\r9it [00:00, 32.35it/s]"
     ]
    },
    {
     "name": "stderr",
     "output_type": "stream",
     "text": [
      "\r12it [00:00, 31.52it/s]"
     ]
    },
    {
     "name": "stderr",
     "output_type": "stream",
     "text": [
      "\r15it [00:00, 29.41it/s]"
     ]
    },
    {
     "name": "stderr",
     "output_type": "stream",
     "text": [
      "\r19it [00:00, 31.52it/s]"
     ]
    },
    {
     "name": "stderr",
     "output_type": "stream",
     "text": [
      "\r25it [00:00, 36.51it/s]"
     ]
    },
    {
     "name": "stderr",
     "output_type": "stream",
     "text": [
      "\r30it [00:00, 39.54it/s]"
     ]
    },
    {
     "name": "stderr",
     "output_type": "stream",
     "text": [
      "\r36it [00:00, 43.21it/s]"
     ]
    },
    {
     "name": "stderr",
     "output_type": "stream",
     "text": [
      "\r41it [00:00, 44.46it/s]"
     ]
    },
    {
     "name": "stderr",
     "output_type": "stream",
     "text": [
      "\r47it [00:01, 48.17it/s]"
     ]
    },
    {
     "name": "stderr",
     "output_type": "stream",
     "text": [
      "\r53it [00:01, 50.17it/s]"
     ]
    },
    {
     "name": "stderr",
     "output_type": "stream",
     "text": [
      "\r59it [00:01, 52.57it/s]"
     ]
    },
    {
     "name": "stderr",
     "output_type": "stream",
     "text": [
      "\r65it [00:01, 50.16it/s]"
     ]
    },
    {
     "name": "stderr",
     "output_type": "stream",
     "text": [
      "\r71it [00:01, 50.26it/s]"
     ]
    },
    {
     "name": "stderr",
     "output_type": "stream",
     "text": [
      "\r77it [00:01, 51.19it/s]"
     ]
    },
    {
     "name": "stderr",
     "output_type": "stream",
     "text": [
      "\r84it [00:01, 54.06it/s]"
     ]
    },
    {
     "name": "stderr",
     "output_type": "stream",
     "text": [
      "\r90it [00:01, 47.48it/s]"
     ]
    },
    {
     "name": "stderr",
     "output_type": "stream",
     "text": [
      "\r96it [00:02, 48.96it/s]"
     ]
    },
    {
     "name": "stderr",
     "output_type": "stream",
     "text": [
      "\r103it [00:02, 52.68it/s]"
     ]
    },
    {
     "name": "stderr",
     "output_type": "stream",
     "text": [
      "\r110it [00:02, 52.62it/s]"
     ]
    },
    {
     "name": "stderr",
     "output_type": "stream",
     "text": [
      "\r116it [00:02, 31.85it/s]"
     ]
    },
    {
     "name": "stderr",
     "output_type": "stream",
     "text": [
      "\r123it [00:02, 37.77it/s]"
     ]
    },
    {
     "name": "stderr",
     "output_type": "stream",
     "text": [
      "\r128it [00:02, 38.90it/s]"
     ]
    },
    {
     "name": "stderr",
     "output_type": "stream",
     "text": [
      "\r133it [00:03, 21.16it/s]"
     ]
    },
    {
     "name": "stderr",
     "output_type": "stream",
     "text": [
      "\r139it [00:03, 25.67it/s]"
     ]
    },
    {
     "name": "stderr",
     "output_type": "stream",
     "text": [
      "\r147it [00:03, 31.73it/s]"
     ]
    },
    {
     "name": "stderr",
     "output_type": "stream",
     "text": [
      "\r155it [00:03, 38.64it/s]"
     ]
    },
    {
     "name": "stderr",
     "output_type": "stream",
     "text": [
      "\r163it [00:03, 45.41it/s]"
     ]
    },
    {
     "name": "stderr",
     "output_type": "stream",
     "text": [
      "\r170it [00:03, 50.33it/s]"
     ]
    },
    {
     "name": "stderr",
     "output_type": "stream",
     "text": [
      "\r179it [00:03, 56.49it/s]"
     ]
    },
    {
     "name": "stderr",
     "output_type": "stream",
     "text": [
      "\r186it [00:04, 53.08it/s]"
     ]
    },
    {
     "name": "stderr",
     "output_type": "stream",
     "text": [
      "\r193it [00:04, 47.26it/s]"
     ]
    },
    {
     "name": "stderr",
     "output_type": "stream",
     "text": [
      "\r199it [00:04, 48.67it/s]"
     ]
    },
    {
     "name": "stderr",
     "output_type": "stream",
     "text": [
      "\r205it [00:04, 50.94it/s]"
     ]
    },
    {
     "name": "stderr",
     "output_type": "stream",
     "text": [
      "\r211it [00:05, 24.55it/s]"
     ]
    },
    {
     "name": "stderr",
     "output_type": "stream",
     "text": [
      "\r222it [00:05, 31.70it/s]"
     ]
    },
    {
     "name": "stderr",
     "output_type": "stream",
     "text": [
      "\r230it [00:05, 38.57it/s]"
     ]
    },
    {
     "name": "stderr",
     "output_type": "stream",
     "text": [
      "\r238it [00:05, 33.44it/s]"
     ]
    },
    {
     "name": "stderr",
     "output_type": "stream",
     "text": [
      "\r247it [00:05, 40.54it/s]"
     ]
    },
    {
     "name": "stderr",
     "output_type": "stream",
     "text": [
      "\r255it [00:05, 46.97it/s]"
     ]
    },
    {
     "name": "stderr",
     "output_type": "stream",
     "text": [
      "\r262it [00:05, 50.66it/s]"
     ]
    },
    {
     "name": "stderr",
     "output_type": "stream",
     "text": [
      "\r272it [00:06, 58.61it/s]"
     ]
    },
    {
     "name": "stderr",
     "output_type": "stream",
     "text": [
      "\r281it [00:06, 63.54it/s]"
     ]
    },
    {
     "name": "stderr",
     "output_type": "stream",
     "text": [
      "\r289it [00:06, 42.00it/s]"
     ]
    },
    {
     "name": "stderr",
     "output_type": "stream",
     "text": [
      "\r295it [00:06, 40.93it/s]"
     ]
    },
    {
     "name": "stderr",
     "output_type": "stream",
     "text": [
      "\r306it [00:06, 50.09it/s]"
     ]
    },
    {
     "name": "stderr",
     "output_type": "stream",
     "text": [
      "\r316it [00:06, 58.55it/s]"
     ]
    },
    {
     "name": "stderr",
     "output_type": "stream",
     "text": [
      "\r324it [00:07, 57.33it/s]"
     ]
    },
    {
     "name": "stderr",
     "output_type": "stream",
     "text": [
      "\r333it [00:07, 63.30it/s]"
     ]
    },
    {
     "name": "stderr",
     "output_type": "stream",
     "text": [
      "\r344it [00:07, 72.35it/s]"
     ]
    },
    {
     "name": "stderr",
     "output_type": "stream",
     "text": [
      "\r353it [00:07, 76.30it/s]"
     ]
    },
    {
     "name": "stderr",
     "output_type": "stream",
     "text": [
      "\r363it [00:07, 81.31it/s]"
     ]
    },
    {
     "name": "stderr",
     "output_type": "stream",
     "text": [
      "\r372it [00:07, 67.01it/s]"
     ]
    },
    {
     "name": "stderr",
     "output_type": "stream",
     "text": [
      "\r380it [00:08, 35.23it/s]"
     ]
    },
    {
     "name": "stderr",
     "output_type": "stream",
     "text": [
      "\r389it [00:08, 43.00it/s]"
     ]
    },
    {
     "name": "stderr",
     "output_type": "stream",
     "text": [
      "\r396it [00:08, 34.86it/s]"
     ]
    },
    {
     "name": "stderr",
     "output_type": "stream",
     "text": [
      "\r402it [00:08, 25.83it/s]"
     ]
    },
    {
     "name": "stderr",
     "output_type": "stream",
     "text": [
      "\r411it [00:08, 32.79it/s]"
     ]
    },
    {
     "name": "stderr",
     "output_type": "stream",
     "text": [
      "\r417it [00:09, 35.27it/s]"
     ]
    },
    {
     "name": "stderr",
     "output_type": "stream",
     "text": [
      "\r424it [00:09, 41.25it/s]"
     ]
    },
    {
     "name": "stderr",
     "output_type": "stream",
     "text": [
      "\r433it [00:09, 47.18it/s]"
     ]
    },
    {
     "name": "stderr",
     "output_type": "stream",
     "text": [
      "\r443it [00:09, 55.78it/s]"
     ]
    },
    {
     "name": "stderr",
     "output_type": "stream",
     "text": [
      "\r453it [00:09, 62.72it/s]"
     ]
    },
    {
     "name": "stderr",
     "output_type": "stream",
     "text": [
      "\r461it [00:09, 63.97it/s]"
     ]
    },
    {
     "name": "stderr",
     "output_type": "stream",
     "text": [
      "\r469it [00:09, 68.06it/s]"
     ]
    },
    {
     "name": "stderr",
     "output_type": "stream",
     "text": [
      "\r477it [00:09, 68.24it/s]"
     ]
    },
    {
     "name": "stderr",
     "output_type": "stream",
     "text": [
      "\r486it [00:10, 69.94it/s]"
     ]
    },
    {
     "name": "stderr",
     "output_type": "stream",
     "text": [
      "\r495it [00:10, 72.33it/s]"
     ]
    },
    {
     "name": "stderr",
     "output_type": "stream",
     "text": [
      "\r503it [00:10, 41.90it/s]"
     ]
    },
    {
     "name": "stderr",
     "output_type": "stream",
     "text": [
      "\r509it [00:10, 36.20it/s]"
     ]
    },
    {
     "name": "stderr",
     "output_type": "stream",
     "text": [
      "\r514it [00:10, 29.29it/s]"
     ]
    },
    {
     "name": "stderr",
     "output_type": "stream",
     "text": [
      "\r524it [00:11, 37.10it/s]"
     ]
    },
    {
     "name": "stderr",
     "output_type": "stream",
     "text": [
      "\r534it [00:11, 34.53it/s]"
     ]
    },
    {
     "name": "stderr",
     "output_type": "stream",
     "text": [
      "\r541it [00:11, 40.70it/s]"
     ]
    },
    {
     "name": "stderr",
     "output_type": "stream",
     "text": [
      "\r549it [00:11, 47.60it/s]"
     ]
    },
    {
     "name": "stderr",
     "output_type": "stream",
     "text": [
      "\r558it [00:11, 55.04it/s]"
     ]
    },
    {
     "name": "stderr",
     "output_type": "stream",
     "text": [
      "\r565it [00:11, 58.29it/s]"
     ]
    },
    {
     "name": "stderr",
     "output_type": "stream",
     "text": [
      "\r574it [00:11, 64.76it/s]"
     ]
    },
    {
     "name": "stderr",
     "output_type": "stream",
     "text": [
      "\r582it [00:12, 67.36it/s]"
     ]
    },
    {
     "name": "stderr",
     "output_type": "stream",
     "text": [
      "\r597it [00:12, 79.10it/s]"
     ]
    },
    {
     "name": "stderr",
     "output_type": "stream",
     "text": [
      "\r607it [00:12, 79.67it/s]"
     ]
    },
    {
     "name": "stderr",
     "output_type": "stream",
     "text": [
      "\r616it [00:12, 65.82it/s]"
     ]
    },
    {
     "name": "stderr",
     "output_type": "stream",
     "text": [
      "\r624it [00:12, 41.59it/s]"
     ]
    },
    {
     "name": "stderr",
     "output_type": "stream",
     "text": [
      "\r631it [00:13, 30.15it/s]"
     ]
    },
    {
     "name": "stderr",
     "output_type": "stream",
     "text": [
      "\r641it [00:13, 37.79it/s]"
     ]
    },
    {
     "name": "stderr",
     "output_type": "stream",
     "text": [
      "\r652it [00:13, 47.05it/s]"
     ]
    },
    {
     "name": "stderr",
     "output_type": "stream",
     "text": [
      "\r660it [00:14, 23.52it/s]"
     ]
    },
    {
     "name": "stderr",
     "output_type": "stream",
     "text": [
      "\r667it [00:14, 29.07it/s]"
     ]
    },
    {
     "name": "stderr",
     "output_type": "stream",
     "text": [
      "\r673it [00:14, 34.39it/s]"
     ]
    },
    {
     "name": "stderr",
     "output_type": "stream",
     "text": [
      "\r681it [00:14, 40.96it/s]"
     ]
    },
    {
     "name": "stderr",
     "output_type": "stream",
     "text": [
      "\r689it [00:14, 47.90it/s]"
     ]
    },
    {
     "name": "stderr",
     "output_type": "stream",
     "text": [
      "\r697it [00:14, 53.10it/s]"
     ]
    },
    {
     "name": "stderr",
     "output_type": "stream",
     "text": [
      "\r704it [00:14, 47.53it/s]"
     ]
    },
    {
     "name": "stderr",
     "output_type": "stream",
     "text": [
      "\r710it [00:15, 44.58it/s]"
     ]
    },
    {
     "name": "stderr",
     "output_type": "stream",
     "text": [
      "\r716it [00:15, 32.34it/s]"
     ]
    },
    {
     "name": "stderr",
     "output_type": "stream",
     "text": [
      "\r725it [00:15, 39.89it/s]"
     ]
    },
    {
     "name": "stderr",
     "output_type": "stream",
     "text": [
      "\r732it [00:15, 45.60it/s]"
     ]
    },
    {
     "name": "stderr",
     "output_type": "stream",
     "text": [
      "\r741it [00:15, 52.09it/s]"
     ]
    },
    {
     "name": "stderr",
     "output_type": "stream",
     "text": [
      "\r751it [00:15, 59.32it/s]"
     ]
    },
    {
     "name": "stderr",
     "output_type": "stream",
     "text": [
      "\r762it [00:15, 68.35it/s]"
     ]
    },
    {
     "name": "stderr",
     "output_type": "stream",
     "text": [
      "\r773it [00:15, 74.69it/s]"
     ]
    },
    {
     "name": "stderr",
     "output_type": "stream",
     "text": [
      "\r782it [00:16, 63.65it/s]"
     ]
    },
    {
     "name": "stderr",
     "output_type": "stream",
     "text": [
      "\r791it [00:16, 69.21it/s]"
     ]
    },
    {
     "name": "stderr",
     "output_type": "stream",
     "text": [
      "\r800it [00:16, 73.94it/s]"
     ]
    },
    {
     "name": "stderr",
     "output_type": "stream",
     "text": [
      "\r809it [00:16, 77.10it/s]"
     ]
    },
    {
     "name": "stderr",
     "output_type": "stream",
     "text": [
      "\r818it [00:16, 69.49it/s]"
     ]
    },
    {
     "name": "stderr",
     "output_type": "stream",
     "text": [
      "\r826it [00:16, 69.04it/s]"
     ]
    },
    {
     "name": "stderr",
     "output_type": "stream",
     "text": [
      "\r834it [00:16, 66.12it/s]"
     ]
    },
    {
     "name": "stderr",
     "output_type": "stream",
     "text": [
      "\r842it [00:16, 69.39it/s]"
     ]
    },
    {
     "name": "stderr",
     "output_type": "stream",
     "text": [
      "\r850it [00:17, 69.24it/s]"
     ]
    },
    {
     "name": "stderr",
     "output_type": "stream",
     "text": [
      "\r858it [00:17, 69.30it/s]"
     ]
    },
    {
     "name": "stderr",
     "output_type": "stream",
     "text": [
      "\r867it [00:17, 72.83it/s]"
     ]
    },
    {
     "name": "stderr",
     "output_type": "stream",
     "text": [
      "\r878it [00:17, 80.68it/s]"
     ]
    },
    {
     "name": "stderr",
     "output_type": "stream",
     "text": [
      "\r887it [00:17, 79.61it/s]"
     ]
    },
    {
     "name": "stderr",
     "output_type": "stream",
     "text": [
      "\r898it [00:17, 85.88it/s]"
     ]
    },
    {
     "name": "stderr",
     "output_type": "stream",
     "text": [
      "\r908it [00:17, 86.61it/s]"
     ]
    },
    {
     "name": "stderr",
     "output_type": "stream",
     "text": [
      "\r918it [00:17, 89.68it/s]"
     ]
    },
    {
     "name": "stderr",
     "output_type": "stream",
     "text": [
      "\r928it [00:17, 91.62it/s]"
     ]
    },
    {
     "name": "stderr",
     "output_type": "stream",
     "text": [
      "\r938it [00:18, 90.43it/s]"
     ]
    },
    {
     "name": "stderr",
     "output_type": "stream",
     "text": [
      "\r948it [00:18, 83.31it/s]"
     ]
    },
    {
     "name": "stderr",
     "output_type": "stream",
     "text": [
      "\r962it [00:18, 91.07it/s]"
     ]
    },
    {
     "name": "stderr",
     "output_type": "stream",
     "text": [
      "\r972it [00:18, 86.07it/s]"
     ]
    },
    {
     "name": "stderr",
     "output_type": "stream",
     "text": [
      "\r981it [00:18, 51.27it/s]"
     ]
    },
    {
     "name": "stderr",
     "output_type": "stream",
     "text": [
      "\r990it [00:18, 56.59it/s]"
     ]
    },
    {
     "name": "stderr",
     "output_type": "stream",
     "text": [
      "\r998it [00:19, 59.21it/s]"
     ]
    },
    {
     "name": "stderr",
     "output_type": "stream",
     "text": [
      "\r1006it [00:19, 62.73it/s]"
     ]
    },
    {
     "name": "stderr",
     "output_type": "stream",
     "text": [
      "\r1014it [00:19, 65.64it/s]"
     ]
    },
    {
     "name": "stderr",
     "output_type": "stream",
     "text": [
      "\r1022it [00:23,  5.73it/s]"
     ]
    },
    {
     "name": "stderr",
     "output_type": "stream",
     "text": [
      "\r1031it [00:23,  7.95it/s]"
     ]
    },
    {
     "name": "stderr",
     "output_type": "stream",
     "text": [
      "\r1038it [00:23, 10.82it/s]"
     ]
    },
    {
     "name": "stderr",
     "output_type": "stream",
     "text": [
      "\r1045it [00:24, 13.01it/s]"
     ]
    },
    {
     "name": "stderr",
     "output_type": "stream",
     "text": [
      "\r1053it [00:24, 17.33it/s]"
     ]
    },
    {
     "name": "stderr",
     "output_type": "stream",
     "text": [
      "\r1059it [00:24, 21.75it/s]"
     ]
    },
    {
     "name": "stderr",
     "output_type": "stream",
     "text": [
      "\r1065it [00:24, 23.76it/s]"
     ]
    },
    {
     "name": "stderr",
     "output_type": "stream",
     "text": [
      "\r1071it [00:24, 28.34it/s]"
     ]
    },
    {
     "name": "stderr",
     "output_type": "stream",
     "text": [
      "\r1079it [00:24, 35.07it/s]"
     ]
    },
    {
     "name": "stderr",
     "output_type": "stream",
     "text": [
      "\r1087it [00:24, 42.14it/s]"
     ]
    },
    {
     "name": "stderr",
     "output_type": "stream",
     "text": [
      "\r1097it [00:24, 50.92it/s]"
     ]
    },
    {
     "name": "stderr",
     "output_type": "stream",
     "text": [
      "\r1105it [00:25, 57.02it/s]"
     ]
    },
    {
     "name": "stderr",
     "output_type": "stream",
     "text": [
      "\r1115it [00:25, 63.06it/s]"
     ]
    },
    {
     "name": "stderr",
     "output_type": "stream",
     "text": [
      "\r1122it [00:25, 44.35it/s]"
     ]
    },
    {
     "name": "stderr",
     "output_type": "stream",
     "text": [
      "\n"
     ]
    }
   ],
   "source": [
    "# noinspection PyUnresolvedReferences\n",
    "from feature_sets.psycholinguistic import get_psycholinguistic_features\n",
    "import nltk \n",
    "from nltk.sentiment.vader import SentimentIntensityAnalyzer\n",
    "#from tqdm import tqdm\n",
    "from tqdm import tqdm_notebook as tqdm\n",
    "\n",
    "sid = SentimentIntensityAnalyzer()\n",
    "\n",
    "new_dataframe = []\n",
    "for index, row in tqdm(merged_dataframe.iterrows()): \n",
    "    single_sentence_list = []\n",
    "    \n",
    "    string = ''\n",
    "    for token in row.text:\n",
    "        if token == '\\n':\n",
    "            single_sentence_list.append(string)\n",
    "            string = ''\n",
    "        else: \n",
    "            string += ' ' + token \n",
    "        \n",
    "    counter = 0 \n",
    "    comp_sentiment_sum = 0\n",
    "    for sentence in single_sentence_list:\n",
    "        ss = sid.polarity_scores(sentence)\n",
    "        comp_sentiment_sum += ss['compound']\n",
    "        counter += 1 \n",
    "    \n",
    "    if counter != 0:\n",
    "        average_sentiment = comp_sentiment_sum/counter\n",
    "    else: \n",
    "        average_sentiment = 0 \n",
    "        \n",
    "    ## for each interview in the dataset. \n",
    "    interview = nltk.pos_tag(row.text, lang='eng')\n",
    "    \n",
    "    final_interview = []\n",
    "    for uttr in interview:\n",
    "        final_interview.append({'token': uttr[0],'pos':uttr[1]})\n",
    "    \n",
    "    dict = get_psycholinguistic_features(final_interview)\n",
    "    \n",
    "    dict['average_sentiment'] = average_sentiment\n",
    "    \n",
    "    additional_features = []\n",
    "    \n",
    "    for  key,value in dict.items():\n",
    "        additional_features.append(value)\n",
    "    \n",
    "    ##Here we take in consideration anagraphic features. \n",
    "    \n",
    "    anagraphic_features = [row.age,row.education,row.race,row.sex]\n",
    "    \n",
    "    dict['features'] = additional_features + anagraphic_features\n",
    "    dict['label'] = row.label \n",
    "    dict['text'] = row.text\n",
    "    dict['mmse']=row.mmse\n",
    "    \n",
    "    new_dataframe.append(dict)\n",
    "\n",
    "\n"
   ]
  },
  {
   "cell_type": "code",
   "execution_count": 12,
   "metadata": {
    "collapsed": false
   },
   "outputs": [
    {
     "name": "stdout",
     "output_type": "stream",
     "text": [
      "   average_sentiment                                           features  \\\n0           0.057656  [314.0, 0.0, 232.5, 1.395, 0.0, 0.05765625, 68...   \n1          -0.019138  [471.0, 0.0, 348.75, 2.0925000000000002, 0.0, ...   \n2           0.171547  [502.4, 0.0, 372.0, 2.232, 0.0, 0.171547368421...   \n3           0.094989  [314.0, 0.0, 232.5, 1.395, 0.0, 0.094988888888...   \n4          -0.044973  [0.0, 0.0, 0.0, 0.0, 0.0, -0.04497272727272727...   \n\n   getAoaScore  getConcretenessScore  getFamiliarityScore  \\\n0       1.3950                   0.0                314.0   \n1       2.0925                   0.0                471.0   \n2       2.2320                   0.0                502.4   \n3       1.3950                   0.0                314.0   \n4       0.0000                   0.0                  0.0   \n\n   getImagabilityScore  getSUBTLWordScores    label  \\\n0               232.50                 0.0  Control   \n1               348.75                 0.0  Control   \n2               372.00                 0.0  Control   \n3               232.50                 0.0  Control   \n4                 0.00                 0.0  Control   \n\n                                                text  \n0  [\\n, okay, \\n, there, s, a, cookie, jar, on, t...  \n1  [\\n, the, kids, are, in, the, cookies, \\n, the...  \n2  [\\n, alright, \\n, the, boy, is, taking, a, coo...  \n3  [\\n, mhm, \\n, well, the, water, s, running, ov...  \n4  [\\n, clears, throat, mother, is, um, drying, t...  \n"
     ]
    }
   ],
   "source": [
    "### Word correctness \n",
    "final_dataframe = pd.DataFrame(new_dataframe)\n",
    "print(final_dataframe.head())"
   ]
  },
  {
   "cell_type": "code",
   "execution_count": 14,
   "metadata": {},
   "outputs": [],
   "source": [
    "import pickle\n",
    "with open('data/pitt_full_interview_features.pickle', 'wb') as f:\n",
    "    pickle.dump(final_dataframe, f)"
   ]
  },
  {
   "cell_type": "code",
   "execution_count": null,
   "metadata": {},
   "outputs": [],
   "source": []
  }
 ],
 "metadata": {
  "kernelspec": {
   "display_name": "Python 2",
   "language": "python",
   "name": "python2"
  },
  "language_info": {
   "codemirror_mode": {
    "name": "ipython",
    "version": 2
   },
   "file_extension": ".py",
   "mimetype": "text/x-python",
   "name": "python",
   "nbconvert_exporter": "python",
   "pygments_lexer": "ipython2",
   "version": "2.7.6"
  },
  "pycharm": {
   "stem_cell": {
    "cell_type": "raw",
    "source": [],
    "metadata": {
     "collapsed": false
    }
   }
  }
 },
 "nbformat": 4,
 "nbformat_minor": 0
}